{
  "nbformat": 4,
  "nbformat_minor": 0,
  "metadata": {
    "kernelspec": {
      "display_name": "Python 3",
      "language": "python",
      "name": "python3"
    },
    "language_info": {
      "codemirror_mode": {
        "name": "ipython",
        "version": 3
      },
      "file_extension": ".py",
      "mimetype": "text/x-python",
      "name": "python",
      "nbconvert_exporter": "python",
      "pygments_lexer": "ipython3",
      "version": "3.6.8"
    },
    "colab": {
      "provenance": []
    }
  },
  "cells": [
    {
      "cell_type": "code",
      "metadata": {
        "id": "68kgsPj1sDQK",
        "outputId": "82839331-8a5a-41c7-c64a-3aa6e52a2fe8",
        "colab": {
          "base_uri": "https://localhost:8080/"
        }
      },
      "source": [
        "from tensorflow.keras.datasets import mnist\n",
        "# import matplotlib for visualization\n",
        "import numpy as np\n",
        "import matplotlib\n",
        "import matplotlib.pyplot as plt\n",
        "%matplotlib inline\n",
        "\n",
        "(X_train, y_train), (X_test, y_test) = mnist.load_data()"
      ],
      "execution_count": 1,
      "outputs": [
        {
          "output_type": "stream",
          "name": "stdout",
          "text": [
            "Downloading data from https://storage.googleapis.com/tensorflow/tf-keras-datasets/mnist.npz\n",
            "11490434/11490434 [==============================] - 0s 0us/step\n"
          ]
        }
      ]
    },
    {
      "cell_type": "code",
      "source": [
        "images = X_train[:3]\n",
        "labels = y_train[:3]\n",
        "\n",
        "f,ax = plt.subplots(nrows=1,ncols=3, figsize=(20,4))\n",
        "\n",
        "for index,(img, ax) in enumerate(zip(images, ax)):\n",
        "    \n",
        "    ax.imshow(img,cmap='gray')\n",
        "    ax.axis('off')\n",
        "    ax.text(0.6,-2.0, f\"Digit in the Image {labels[index]}\", size=15, ha=\"center\")\n",
        "    \n",
        "plt.show()"
      ],
      "metadata": {
        "colab": {
          "base_uri": "https://localhost:8080/",
          "height": 190
        },
        "id": "xWIKiaYIss8K",
        "outputId": "875cb39e-aeb8-4476-bf43-22389ac81bbe"
      },
      "execution_count": 2,
      "outputs": [
        {
          "output_type": "display_data",
          "data": {
            "text/plain": [
              "<Figure size 1440x288 with 3 Axes>"
            ],
            "image/png": "[encoded data removed]"
          },
          "metadata": {
            "needs_background": "light"
          }
        }
      ]
    },
    {
      "cell_type": "code",
      "metadata": {
        "id": "yKSBryiPsDQS"
      },
      "source": [
        "from tensorflow.keras.models import Sequential\n",
        "from tensorflow.keras.layers import Dense, Dropout\n",
        "from tensorflow.keras.optimizers import SGD\n",
        "from tensorflow.keras.callbacks import TensorBoard\n",
        "from tensorflow.keras.utils import to_categorical\n",
        "from tensorflow.keras.callbacks import EarlyStopping\n",
        "from tensorflow.keras import regularizers\n",
        "from datetime import datetime"
      ],
      "execution_count": 3,
      "outputs": []
    },
    {
      "cell_type": "code",
      "metadata": {
        "id": "C9qUbXZIsDQZ"
      },
      "source": [
        "input_num_units = 784\n",
        "X_train = X_train.reshape(60000, input_num_units)\n",
        "X_test = X_test.reshape(10000, input_num_units)"
      ],
      "execution_count": 4,
      "outputs": []
    },
    {
      "cell_type": "code",
      "metadata": {
        "id": "bjlAMNCXsDQd"
      },
      "source": [
        "y_train = to_categorical(y_train, 10)\n",
        "y_test = to_categorical(y_test, 10)"
      ],
      "execution_count": 5,
      "outputs": []
    },
    {
      "cell_type": "code",
      "source": [
        "# define vars\n",
        "hidden1_num_units = 500\n",
        "hidden2_num_units = 500\n",
        "hidden3_num_units = 500\n",
        "hidden4_num_units = 500\n",
        "hidden5_num_units = 500\n",
        "output_num_units = 10\n",
        "\n",
        "epochs = 10\n",
        "batch_size = 128\n",
        "\n",
        "model = Sequential([\n",
        " Dense(hidden1_num_units, input_dim=input_num_units, activation='relu'),\n",
        " Dense(hidden2_num_units, input_dim=hidden1_num_units, activation='relu'),\n",
        " Dense(hidden3_num_units, input_dim=hidden2_num_units, activation='relu'),\n",
        " Dense(hidden4_num_units, input_dim=hidden3_num_units, activation='relu'),\n",
        " Dense(hidden5_num_units, input_dim=hidden4_num_units, activation='relu'),\n",
        "Dense(output_num_units, input_dim=hidden5_num_units, activation='softmax'),\n",
        " ])\n",
        "\n",
        "model.compile(loss='categorical_crossentropy', optimizer='adam', metrics=['accuracy'])"
      ],
      "metadata": {
        "id": "dAVkWT3Obuk6"
      },
      "execution_count": 6,
      "outputs": []
    },
    {
      "cell_type": "code",
      "source": [
        "trained_model_5d = model.fit(X_train, y_train, epochs=epochs, batch_size=batch_size, validation_data=(X_test, y_test))"
      ],
      "metadata": {
        "colab": {
          "base_uri": "https://localhost:8080/"
        },
        "id": "VoVLf78ccKFe",
        "outputId": "9e34ea90-f34e-49f7-b3b1-5cb3594a99a1"
      },
      "execution_count": null,
      "outputs": [
        {
          "output_type": "stream",
          "name": "stdout",
          "text": [
            "Epoch 1/10\n",
            "240/469 [==============>...............] - ETA: 25s - loss: 1.9417 - accuracy: 0.8595"
          ]
        }
      ]
    },
    {
      "cell_type": "code",
      "source": [
        "## dropout\n",
        "\n",
        "from keras.layers.core import Dropout\n",
        "model = Sequential([\n",
        " Dense(hidden1_num_units, input_dim=input_num_units, activation='relu'),\n",
        " Dropout(0.25),\n",
        " Dense(hidden2_num_units, input_dim=hidden1_num_units, activation='relu'),\n",
        " Dropout(0.25),\n",
        " Dense(hidden3_num_units, input_dim=hidden2_num_units, activation='relu'),\n",
        " Dropout(0.25),\n",
        " Dense(hidden4_num_units, input_dim=hidden3_num_units, activation='relu'),\n",
        " Dropout(0.25),\n",
        " Dense(hidden5_num_units, input_dim=hidden4_num_units, activation='relu'),\n",
        " Dropout(0.25),\n",
        "\n",
        "Dense(output_num_units, input_dim=hidden5_num_units, activation='softmax'),\n",
        " ])"
      ],
      "metadata": {
        "id": "7FDKnU55dMmi"
      },
      "execution_count": null,
      "outputs": []
    },
    {
      "cell_type": "code",
      "source": [
        "model.compile(loss='categorical_crossentropy', optimizer='adam', metrics=['accuracy'])\n",
        "trained_model_5d = model.fit(X_train, y_train, epochs=epochs, batch_size=batch_size, validation_data=(X_test, y_test))"
      ],
      "metadata": {
        "id": "F59yQmG-dNM-"
      },
      "execution_count": null,
      "outputs": []
    },
    {
      "cell_type": "code",
      "source": [
        "#L1\n",
        "\n",
        "model = Sequential([\n",
        " Dense(hidden1_num_units, input_dim=input_num_units, activation='relu',\n",
        " kernel_regularizer=regularizers.l1(0.0001)),\n",
        " Dense(hidden2_num_units, input_dim=hidden1_num_units, activation='relu',\n",
        " kernel_regularizer=regularizers.l1(0.0001)),\n",
        " Dense(hidden3_num_units, input_dim=hidden2_num_units, activation='relu',\n",
        " kernel_regularizer=regularizers.l1(0.0001)),\n",
        " Dense(hidden4_num_units, input_dim=hidden3_num_units, activation='relu',\n",
        " kernel_regularizer=regularizers.l1(0.0001)),\n",
        " Dense(hidden5_num_units, input_dim=hidden4_num_units, activation='relu',\n",
        " kernel_regularizer=regularizers.l1(0.0001)),\n",
        "\n",
        "Dense(output_num_units, input_dim=hidden5_num_units, activation='softmax'),\n",
        " ])"
      ],
      "metadata": {
        "id": "yLJxWSQ8mwi_"
      },
      "execution_count": null,
      "outputs": []
    },
    {
      "cell_type": "code",
      "source": [
        "model.compile(loss='categorical_crossentropy', optimizer='adam', metrics=['accuracy'])\n",
        "trained_model_5d = model.fit(X_train, y_train, epochs=epochs, batch_size=batch_size, validation_data=(X_test, y_test))"
      ],
      "metadata": {
        "colab": {
          "base_uri": "https://localhost:8080/"
        },
        "id": "q1YLFpllmwTW",
        "outputId": "86ad90b0-040b-44da-8d66-09f25aa603cc"
      },
      "execution_count": null,
      "outputs": [
        {
          "output_type": "stream",
          "name": "stdout",
          "text": [
            "Epoch 1/10\n",
            "469/469 [==============================] - 29s 61ms/step - loss: 5.2003 - accuracy: 0.8999 - val_loss: 3.9612 - val_accuracy: 0.9564\n",
            "Epoch 2/10\n",
            "469/469 [==============================] - 29s 61ms/step - loss: 3.5335 - accuracy: 0.9638 - val_loss: 3.1693 - val_accuracy: 0.9626\n",
            "Epoch 3/10\n",
            "469/469 [==============================] - 31s 66ms/step - loss: 2.8274 - accuracy: 0.9705 - val_loss: 2.5521 - val_accuracy: 0.9669\n",
            "Epoch 4/10\n",
            "469/469 [==============================] - 32s 68ms/step - loss: 2.2687 - accuracy: 0.9737 - val_loss: 2.0717 - val_accuracy: 0.9632\n",
            "Epoch 5/10\n",
            "469/469 [==============================] - 32s 68ms/step - loss: 1.8172 - accuracy: 0.9748 - val_loss: 1.6439 - val_accuracy: 0.9703\n",
            "Epoch 6/10\n",
            "469/469 [==============================] - 35s 75ms/step - loss: 1.4566 - accuracy: 0.9760 - val_loss: 1.3087 - val_accuracy: 0.9736\n",
            "Epoch 7/10\n",
            "469/469 [==============================] - 35s 75ms/step - loss: 1.1579 - accuracy: 0.9765 - val_loss: 1.0633 - val_accuracy: 0.9695\n",
            "Epoch 8/10\n",
            "469/469 [==============================] - 36s 77ms/step - loss: 0.9144 - accuracy: 0.9775 - val_loss: 0.8430 - val_accuracy: 0.9699\n",
            "Epoch 9/10\n",
            "469/469 [==============================] - 33s 71ms/step - loss: 0.7285 - accuracy: 0.9767 - val_loss: 0.6731 - val_accuracy: 0.9707\n",
            "Epoch 10/10\n",
            "469/469 [==============================] - 30s 65ms/step - loss: 0.5814 - accuracy: 0.9773 - val_loss: 0.5452 - val_accuracy: 0.9703\n"
          ]
        }
      ]
    },
    {
      "cell_type": "code",
      "source": [
        "#L2\n",
        "from keras import regularizers\n",
        "\n",
        "model = Sequential([\n",
        " Dense(hidden1_num_units, input_dim=input_num_units, activation='relu',\n",
        " kernel_regularizer=regularizers.l2(0.0001)),\n",
        " Dense(hidden2_num_units, input_dim=hidden1_num_units, activation='relu',\n",
        " kernel_regularizer=regularizers.l2(0.0001)),\n",
        " Dense(hidden3_num_units, input_dim=hidden2_num_units, activation='relu',\n",
        " kernel_regularizer=regularizers.l2(0.0001)),\n",
        " Dense(hidden4_num_units, input_dim=hidden3_num_units, activation='relu',\n",
        " kernel_regularizer=regularizers.l2(0.0001)),\n",
        " Dense(hidden5_num_units, input_dim=hidden4_num_units, activation='relu',\n",
        " kernel_regularizer=regularizers.l2(0.0001)),\n",
        "\n",
        "Dense(output_num_units, input_dim=hidden5_num_units, activation='softmax'),\n",
        " ])"
      ],
      "metadata": {
        "id": "5OKBy7A4jcv6"
      },
      "execution_count": null,
      "outputs": []
    },
    {
      "cell_type": "code",
      "source": [
        "model.compile(loss='categorical_crossentropy', optimizer='adam', metrics=['accuracy'])\n",
        "\n",
        "trained_model_5d = model.fit(X_train, y_train, epochs=epochs, batch_size=batch_size, validation_data=(X_test, y_test))"
      ],
      "metadata": {
        "id": "hu-tTLBzmjtL",
        "colab": {
          "base_uri": "https://localhost:8080/"
        },
        "outputId": "76d4cc27-35e1-49c7-f421-5a64702b145f"
      },
      "execution_count": null,
      "outputs": [
        {
          "output_type": "stream",
          "name": "stdout",
          "text": [
            "Epoch 1/10\n",
            "469/469 [==============================] - 30s 63ms/step - loss: 1.1462 - accuracy: 0.9028 - val_loss: 0.3868 - val_accuracy: 0.9545\n",
            "Epoch 2/10\n",
            "469/469 [==============================] - 28s 59ms/step - loss: 0.3462 - accuracy: 0.9627 - val_loss: 0.3396 - val_accuracy: 0.9631\n",
            "Epoch 3/10\n",
            "469/469 [==============================] - 27s 58ms/step - loss: 0.3039 - accuracy: 0.9732 - val_loss: 0.3287 - val_accuracy: 0.9641\n",
            "Epoch 4/10\n",
            "469/469 [==============================] - 30s 65ms/step - loss: 0.2793 - accuracy: 0.9768 - val_loss: 0.3218 - val_accuracy: 0.9665\n",
            "Epoch 5/10\n",
            "469/469 [==============================] - 29s 62ms/step - loss: 0.2656 - accuracy: 0.9780 - val_loss: 0.3071 - val_accuracy: 0.9674\n",
            "Epoch 6/10\n",
            "469/469 [==============================] - 31s 66ms/step - loss: 0.2466 - accuracy: 0.9818 - val_loss: 0.2998 - val_accuracy: 0.9684\n",
            "Epoch 7/10\n",
            "469/469 [==============================] - 30s 65ms/step - loss: 0.2386 - accuracy: 0.9809 - val_loss: 0.2902 - val_accuracy: 0.9697\n",
            "Epoch 8/10\n",
            "469/469 [==============================] - 30s 64ms/step - loss: 0.2230 - accuracy: 0.9834 - val_loss: 0.2609 - val_accuracy: 0.9754\n",
            "Epoch 9/10\n",
            "469/469 [==============================] - 30s 65ms/step - loss: 0.2075 - accuracy: 0.9851 - val_loss: 0.2621 - val_accuracy: 0.9717\n",
            "Epoch 10/10\n",
            "469/469 [==============================] - 30s 64ms/step - loss: 0.1954 - accuracy: 0.9863 - val_loss: 0.2462 - val_accuracy: 0.9750\n"
          ]
        }
      ]
    },
    {
      "cell_type": "code",
      "source": [
        "# Early Stopping\n",
        "from keras.callbacks import EarlyStopping\n",
        "\n",
        "model.compile(loss='categorical_crossentropy', optimizer='adam', metrics=['accuracy'])\n",
        "trained_model_5d = model.fit(X_train, y_train, epochs=epochs, batch_size=batch_size, validation_data=(X_test, y_test) ,callbacks = [EarlyStopping(monitor='val_loss', patience=2)])"
      ],
      "metadata": {
        "id": "hXYg53aznetu",
        "colab": {
          "base_uri": "https://localhost:8080/"
        },
        "outputId": "1a8cf6dd-e3fb-4902-d685-aa95078fbf63"
      },
      "execution_count": null,
      "outputs": [
        {
          "output_type": "stream",
          "name": "stdout",
          "text": [
            "Epoch 1/10\n",
            "469/469 [==============================] - 19s 39ms/step - loss: 0.1603 - accuracy: 0.9799 - val_loss: 0.1734 - val_accuracy: 0.9744\n",
            "Epoch 2/10\n",
            "469/469 [==============================] - 18s 38ms/step - loss: 0.1379 - accuracy: 0.9835 - val_loss: 0.1668 - val_accuracy: 0.9791\n",
            "Epoch 3/10\n",
            "469/469 [==============================] - 18s 39ms/step - loss: 0.1306 - accuracy: 0.9859 - val_loss: 0.1809 - val_accuracy: 0.9756\n",
            "Epoch 4/10\n",
            "469/469 [==============================] - 18s 37ms/step - loss: 0.1217 - accuracy: 0.9873 - val_loss: 0.1792 - val_accuracy: 0.9748\n"
          ]
        }
      ]
    },
    {
      "cell_type": "code",
      "source": [
        "#data augmentation\n",
        "from keras.datasets import mnist\n",
        "from keras.preprocessing.image import ImageDataGenerator\n",
        "from matplotlib import pyplot\n",
        "\n",
        "(X_train, y_train), (X_test, y_test) = mnist.load_data()\n",
        "# image dimensions (assumed square)\n",
        "image_size = X_train.shape[1]\n",
        "input_size = image_size * image_size\n",
        "# we train our network using float data\n",
        "X_train = X_train.astype('float32') / 255\n",
        "X_test = X_test.astype('float32') / 255\n",
        "\n",
        "y_train = to_categorical(y_train)\n",
        "y_test = to_categorical(y_test)\n",
        "\n",
        "\n",
        "batch_size = 10000\n",
        "\n",
        "X_train = np.reshape(X_train, [-1, image_size, image_size, 1])\n",
        "datagen = ImageDataGenerator(zca_whitening=True)\n",
        "datagen.fit(X_train)\n",
        "\n",
        "for X_batch, y_batch in datagen.flow(X_train, y_train, batch_size=batch_size):\n",
        "  for i in range(0, 9):\n",
        "            pyplot.subplot(330 + 1 + i)\n",
        "            img=X_batch[i].reshape(28, 28)\n",
        "            pyplot.imshow(img, cmap=pyplot.get_cmap('gray'))\n",
        "  pyplot.show()\n",
        "  break"
      ],
      "metadata": {
        "id": "z2RexBSuoRnJ",
        "colab": {
          "base_uri": "https://localhost:8080/",
          "height": 268
        },
        "outputId": "bb3e2352-dc4b-4529-ff1c-5a75c0b10a7a"
      },
      "execution_count": null,
      "outputs": [
        {
          "output_type": "display_data",
          "data": {
            "text/plain": [
              "<Figure size 432x288 with 9 Axes>"
            ],
            "image/png": "[encoded data removed]"
          },
          "metadata": {
            "needs_background": "light"
          }
        }
      ]
    },
    {
      "cell_type": "code",
      "source": [
        "for e in range(epochs):\n",
        "    print('Epoch', e)\n",
        "    X_batch = np.reshape(X_batch, [-1, image_size*image_size])\n",
        "    model.fit(X_batch, y_batch)"
      ],
      "metadata": {
        "id": "IrPadBkPpHFh",
        "colab": {
          "base_uri": "https://localhost:8080/"
        },
        "outputId": "a5c4b0a8-438b-43d7-f38f-a49778ff6bb6"
      },
      "execution_count": null,
      "outputs": [
        {
          "output_type": "stream",
          "name": "stdout",
          "text": [
            "Epoch 0\n",
            "313/313 [==============================] - 7s 23ms/step - loss: 0.7620 - accuracy: 0.8060\n",
            "Epoch 1\n",
            "313/313 [==============================] - 7s 23ms/step - loss: 0.3774 - accuracy: 0.9222\n",
            "Epoch 2\n",
            "313/313 [==============================] - 7s 24ms/step - loss: 0.2581 - accuracy: 0.9524\n",
            "Epoch 3\n",
            "313/313 [==============================] - 8s 24ms/step - loss: 0.2179 - accuracy: 0.9630\n",
            "Epoch 4\n",
            "313/313 [==============================] - 7s 24ms/step - loss: 0.1699 - accuracy: 0.9784\n",
            "Epoch 5\n",
            "313/313 [==============================] - 7s 23ms/step - loss: 0.1808 - accuracy: 0.9729\n",
            "Epoch 6\n",
            "313/313 [==============================] - 7s 23ms/step - loss: 0.1617 - accuracy: 0.9811\n",
            "Epoch 7\n",
            "313/313 [==============================] - 7s 23ms/step - loss: 0.1508 - accuracy: 0.9822\n",
            "Epoch 8\n",
            "313/313 [==============================] - 7s 23ms/step - loss: 0.1427 - accuracy: 0.9851\n",
            "Epoch 9\n",
            "313/313 [==============================] - 7s 23ms/step - loss: 0.1394 - accuracy: 0.9845\n"
          ]
        }
      ]
    },
    {
      "cell_type": "code",
      "source": [
        "x_test = np.reshape(X_test, [-1, input_size])\n",
        "scores = model.evaluate(x_test,\n",
        "                        y_test,\n",
        "                        batch_size=batch_size,\n",
        "                        verbose=False)\n",
        "print('Test loss:', scores[0])\n",
        "print('Test accuracy: %0.1f%%' % (100 * scores[1]))"
      ],
      "metadata": {
        "id": "dbYkvLLvpLE9",
        "colab": {
          "base_uri": "https://localhost:8080/"
        },
        "outputId": "19196166-3ff1-439f-90e3-486a45e7540f"
      },
      "execution_count": null,
      "outputs": [
        {
          "output_type": "stream",
          "name": "stdout",
          "text": [
            "Test loss: 0.6608895063400269\n",
            "Test accuracy: 88.2%\n"
          ]
        }
      ]
    }
  ]
}